{
  "nbformat": 4,
  "nbformat_minor": 0,
  "metadata": {
    "colab": {
      "provenance": []
    },
    "kernelspec": {
      "name": "python3",
      "display_name": "Python 3"
    },
    "language_info": {
      "name": "python"
    }
  },
  "cells": [
    {
      "cell_type": "markdown",
      "source": [
        "**Import Libraries**"
      ],
      "metadata": {
        "id": "BVxLMI7KMMWU"
      }
    },
    {
      "cell_type": "code",
      "source": [
        "import yfinance as yf\n",
        "import pandas as pd\n",
        "import numpy as np\n",
        "from sklearn.impute import SimpleImputer\n",
        "from sklearn.model_selection import train_test_split\n",
        "from sklearn.linear_model import LinearRegression"
      ],
      "metadata": {
        "id": "5xyS0t2tMLtm"
      },
      "execution_count": null,
      "outputs": []
    },
    {
      "cell_type": "markdown",
      "source": [
        "**Load Data**"
      ],
      "metadata": {
        "id": "f7UBN8KuMo1W"
      }
    },
    {
      "cell_type": "code",
      "source": [
        "dataset_path = \"/content/turkish_2ndhand_automobile_processed.csv\" #user should change dataset_path to match where file is\n",
        "df = pd.read_csv(dataset_path)\n",
        "\n",
        "cat_imputer1 = SimpleImputer(strategy='most_frequent')\n",
        "df['marka'] = cat_imputer1.fit_transform(df[['marka']]).ravel()\n",
        "\n",
        "cat_imputer2 = SimpleImputer(strategy='most_frequent')\n",
        "df['seri'] = cat_imputer2.fit_transform(df[['seri']]).ravel()\n",
        "\n",
        "cat_imputer3 = SimpleImputer(strategy='most_frequent')\n",
        "df['model'] = cat_imputer3.fit_transform(df[['model']]).ravel()\n",
        "\n",
        "cat_imputer4 = SimpleImputer(strategy='most_frequent')\n",
        "df['il_ilce'] = cat_imputer4.fit_transform(df[['il_ilce']]).ravel()\n",
        "\n",
        "df['km'] = pd.to_numeric(df['km'], errors='coerce')\n",
        "num_imputer = SimpleImputer(strategy='median')\n",
        "df['km'] = num_imputer.fit_transform(df[['km']])"
      ],
      "metadata": {
        "id": "N44TOOkaMn-L"
      },
      "execution_count": null,
      "outputs": []
    },
    {
      "cell_type": "markdown",
      "source": [
        "**Numerical Imputation and Outlier Filtering**"
      ],
      "metadata": {
        "id": "zPoWrwrgNKVE"
      }
    },
    {
      "cell_type": "code",
      "source": [
        "yil_bottom = df['yil'].quantile(0.10)\n",
        "\n",
        "Q1fiyat = df['fiyat'].quantile(0.25)\n",
        "Q3fiyat = df['fiyat'].quantile(0.75)\n",
        "IQRfiyat = Q3fiyat - Q1fiyat\n",
        "\n",
        "Q1km = df['km'].quantile(0.25)\n",
        "Q3km = df['km'].quantile(0.75)\n",
        "IQRkm = Q3km - Q1km\n",
        "\n",
        "lower_bound = Q1fiyat - 1.5 * IQRfiyat\n",
        "upper_bound = Q3fiyat + 1.5 * IQRfiyat\n",
        "\n",
        "df = df[(df['fiyat'] >= lower_bound) & (df['fiyat'] <= upper_bound) &\n",
        "        (df['km'] >= Q1km) & (df['km'] <= Q3km) &\n",
        "        (df['yil'] >= yil_bottom)\n",
        "      ]"
      ],
      "metadata": {
        "id": "GWvgnW0NNIDa"
      },
      "execution_count": null,
      "outputs": []
    },
    {
      "cell_type": "markdown",
      "source": [
        "**Feature Selection, One-Hot Encoding, Sampling, and Train-Test Split**"
      ],
      "metadata": {
        "id": "q1EJB1VYN8k8"
      }
    },
    {
      "cell_type": "code",
      "source": [
        "selected_features = ['marka', 'seri', 'model', 'yil', 'km', 'il_ilce']\n",
        "df_sampled = df.sample(frac=1, random_state=100)\n",
        "price_factors = df_sampled[selected_features]\n",
        "price_factors = pd.get_dummies(price_factors, columns=selected_features, drop_first=True).astype(float)\n",
        "price_target = df_sampled['fiyat']\n",
        "price_factors_train, price_factors_test, price_target_train, price_target_test = train_test_split(price_factors, price_target, test_size=.67)"
      ],
      "metadata": {
        "id": "DZ8OO9ufOLKt"
      },
      "execution_count": null,
      "outputs": []
    },
    {
      "cell_type": "markdown",
      "source": [
        "**Model Training & Prediction**"
      ],
      "metadata": {
        "id": "X-yvIyN-OreV"
      }
    },
    {
      "cell_type": "code",
      "source": [
        "model = LinearRegression()\n",
        "\n",
        "model.fit(price_factors_train, price_target_train)\n",
        "\n",
        "price_target_pred = model.predict(price_factors_test)\n",
        "price_target_pred = np.maximum(price_target_pred, 0)"
      ],
      "metadata": {
        "id": "5sQoLE3BOwqY"
      },
      "execution_count": null,
      "outputs": []
    },
    {
      "cell_type": "markdown",
      "source": [
        "**Table Creation**"
      ],
      "metadata": {
        "id": "L2v64iSSO1cF"
      }
    },
    {
      "cell_type": "code",
      "source": [
        "original_features = df[['marka', 'model', 'yil', 'km', 'il_ilce']]\n",
        "\n",
        "original_features_test = original_features.loc[price_factors_test.index].reset_index(drop=True)\n",
        "\n",
        "\n",
        "comparison_df = pd.DataFrame({\n",
        "  \"Brand\": original_features_test[\"marka\"],\n",
        "  \"Model\": original_features_test[\"model\"],\n",
        "  \"Year\": original_features_test[\"yil\"],\n",
        "  \"KM\": original_features_test[\"km\"].round().astype(int),\n",
        "  \"Location\": original_features_test['il_ilce'],\n",
        "  \"Actual Price (TRY)\": price_target_test.values.round(2).astype(float),\n",
        "  \"Predicted Price (TRY)\": price_target_pred.round(2).astype(float)\n",
        "})"
      ],
      "metadata": {
        "id": "s2LtkF4lPJVU"
      },
      "execution_count": null,
      "outputs": []
    },
    {
      "cell_type": "markdown",
      "source": [
        "**Lira to USD Conversion**"
      ],
      "metadata": {
        "id": "_17Bn0wVPMn4"
      }
    },
    {
      "cell_type": "code",
      "source": [
        "lira2USD = yf.download(\"USDTRY=X\", period=\"1d\", interval=\"1m\")[\"Close\"].iloc[-1].round().astype(int)\n",
        "\n",
        "def convertLira2USD(liras):\n",
        "  return liras / lira2USD\n",
        "\n",
        "comparison_df[\"Actual Price ($)\"] = (comparison_df[\"Actual Price (TRY)\"].apply(lambda x: convertLira2USD(x))).round(2).astype(float)\n",
        "comparison_df[\"Predicted Price ($)\"] = (comparison_df[\"Predicted Price (TRY)\"].apply(lambda x: convertLira2USD(x))).round(2).astype(float)\n",
        "\n",
        "comparison_df = comparison_df.drop(columns=[\"Actual Price (TRY)\", \"Predicted Price (TRY)\"])"
      ],
      "metadata": {
        "id": "XiNMP6FvPe3-"
      },
      "execution_count": null,
      "outputs": []
    },
    {
      "cell_type": "markdown",
      "source": [
        "**MoE Calculation & Output Results**"
      ],
      "metadata": {
        "id": "w4N21vUyPklc"
      }
    },
    {
      "cell_type": "code",
      "execution_count": null,
      "metadata": {
        "id": "YnpOedGDMJpP"
      },
      "outputs": [],
      "source": [
        "comparison_df[\"  MoE (%)\"] = ((abs(price_target_pred - price_target_test.values) / price_target_test.values) * 100).round(1).astype(float)\n",
        "\n",
        "comparison_df[\"  MoE (%)\"] = comparison_df[\"  MoE (%)\"].apply(lambda x: f\"{x}%\")\n",
        "\n",
        "average_moe = comparison_df[\"  MoE (%)\"].str.rstrip('%').astype(float).mean()\n",
        "\n",
        "print(f\"\\nAverage Margin of Error: {average_moe:.2f}%\" + '\\n')\n",
        "\n",
        "output_file = \"/content/comparison_output.txt\" ##change output here\n",
        "\n",
        "with open(output_file, 'w') as file:\n",
        "  file.write(comparison_df.to_string(index=False))\n",
        "\n",
        "print(f\"Full comparison data has been saved to {output_file}\")\n",
        "\n",
        "print('\\n'+ \"First 10 comparisons preview: \" + '\\n' + comparison_df.head(10).to_string(index=False))"
      ]
    }
  ]
}